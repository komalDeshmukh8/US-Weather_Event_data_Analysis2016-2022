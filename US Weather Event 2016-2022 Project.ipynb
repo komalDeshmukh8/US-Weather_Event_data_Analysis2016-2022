{
  "nbformat": 4,
  "nbformat_minor": 0,
  "metadata": {
    "colab": {
      "provenance": []
    },
    "kernelspec": {
      "name": "python3",
      "display_name": "Python 3"
    },
    "language_info": {
      "name": "python"
    }
  },
  "cells": [
    {
      "cell_type": "code",
      "execution_count": null,
      "metadata": {
        "id": "b_Rg1jjqtnbR"
      },
      "outputs": [],
      "source": [
        "import numpy as np\n",
        "import pandas as pd\n",
        "import matplotlib.pyplot as plt\n",
        "import seaborn\n",
        "import plotly.graph_objects as go\n",
        "import plotly.express as px\n",
        "from plotly.subplots import make_subplots"
      ]
    },
    {
      "cell_type": "code",
      "source": [
        "df=pd.read_csv(\"/content/drive/MyDrive/pdf/2025-05-04_US_weather_data_analysis/WeatherEvents_Jan2016-Dec2022.zip\")"
      ],
      "metadata": {
        "id": "35fMf1ni38gk"
      },
      "execution_count": null,
      "outputs": []
    },
    {
      "cell_type": "code",
      "source": [
        "df.shape"
      ],
      "metadata": {
        "colab": {
          "base_uri": "https://localhost:8080/"
        },
        "id": "p0mbSxjs5s9E",
        "outputId": "0a52d041-7ebc-4662-f012-0dfa1f6ce6b4"
      },
      "execution_count": null,
      "outputs": [
        {
          "output_type": "execute_result",
          "data": {
            "text/plain": [
              "(8627181, 14)"
            ]
          },
          "metadata": {},
          "execution_count": 3
        }
      ]
    },
    {
      "cell_type": "code",
      "source": [
        "df.head()"
      ],
      "metadata": {
        "colab": {
          "base_uri": "https://localhost:8080/",
          "height": 313
        },
        "id": "Xjj_eF0O5wI_",
        "outputId": "da4bc1de-ca4a-4e63-ff10-2c3241e6c473"
      },
      "execution_count": null,
      "outputs": [
        {
          "output_type": "execute_result",
          "data": {
            "text/plain": [
              "  EventId  Type Severity       StartTime(UTC)         EndTime(UTC)  \\\n",
              "0     W-1  Snow    Light  2016-01-06 23:14:00  2016-01-07 00:34:00   \n",
              "1     W-2  Snow    Light  2016-01-07 04:14:00  2016-01-07 04:54:00   \n",
              "2     W-3  Snow    Light  2016-01-07 05:54:00  2016-01-07 15:34:00   \n",
              "3     W-4  Snow    Light  2016-01-08 05:34:00  2016-01-08 05:54:00   \n",
              "4     W-5  Snow    Light  2016-01-08 13:54:00  2016-01-08 15:54:00   \n",
              "\n",
              "   Precipitation(in)     TimeZone AirportCode  LocationLat  LocationLng  \\\n",
              "0               0.00  US/Mountain        K04V      38.0972    -106.1689   \n",
              "1               0.00  US/Mountain        K04V      38.0972    -106.1689   \n",
              "2               0.03  US/Mountain        K04V      38.0972    -106.1689   \n",
              "3               0.00  US/Mountain        K04V      38.0972    -106.1689   \n",
              "4               0.00  US/Mountain        K04V      38.0972    -106.1689   \n",
              "\n",
              "       City    County State  ZipCode  \n",
              "0  Saguache  Saguache    CO  81149.0  \n",
              "1  Saguache  Saguache    CO  81149.0  \n",
              "2  Saguache  Saguache    CO  81149.0  \n",
              "3  Saguache  Saguache    CO  81149.0  \n",
              "4  Saguache  Saguache    CO  81149.0  "
            ],
            "text/html": [
              "\n",
              "  <div id=\"df-b35b9207-85a1-45f8-be94-b2ff75f84b36\" class=\"colab-df-container\">\n",
              "    <div>\n",
              "<style scoped>\n",
              "    .dataframe tbody tr th:only-of-type {\n",
              "        vertical-align: middle;\n",
              "    }\n",
              "\n",
              "    .dataframe tbody tr th {\n",
              "        vertical-align: top;\n",
              "    }\n",
              "\n",
              "    .dataframe thead th {\n",
              "        text-align: right;\n",
              "    }\n",
              "</style>\n",
              "<table border=\"1\" class=\"dataframe\">\n",
              "  <thead>\n",
              "    <tr style=\"text-align: right;\">\n",
              "      <th></th>\n",
              "      <th>EventId</th>\n",
              "      <th>Type</th>\n",
              "      <th>Severity</th>\n",
              "      <th>StartTime(UTC)</th>\n",
              "      <th>EndTime(UTC)</th>\n",
              "      <th>Precipitation(in)</th>\n",
              "      <th>TimeZone</th>\n",
              "      <th>AirportCode</th>\n",
              "      <th>LocationLat</th>\n",
              "      <th>LocationLng</th>\n",
              "      <th>City</th>\n",
              "      <th>County</th>\n",
              "      <th>State</th>\n",
              "      <th>ZipCode</th>\n",
              "    </tr>\n",
              "  </thead>\n",
              "  <tbody>\n",
              "    <tr>\n",
              "      <th>0</th>\n",
              "      <td>W-1</td>\n",
              "      <td>Snow</td>\n",
              "      <td>Light</td>\n",
              "      <td>2016-01-06 23:14:00</td>\n",
              "      <td>2016-01-07 00:34:00</td>\n",
              "      <td>0.00</td>\n",
              "      <td>US/Mountain</td>\n",
              "      <td>K04V</td>\n",
              "      <td>38.0972</td>\n",
              "      <td>-106.1689</td>\n",
              "      <td>Saguache</td>\n",
              "      <td>Saguache</td>\n",
              "      <td>CO</td>\n",
              "      <td>81149.0</td>\n",
              "    </tr>\n",
              "    <tr>\n",
              "      <th>1</th>\n",
              "      <td>W-2</td>\n",
              "      <td>Snow</td>\n",
              "      <td>Light</td>\n",
              "      <td>2016-01-07 04:14:00</td>\n",
              "      <td>2016-01-07 04:54:00</td>\n",
              "      <td>0.00</td>\n",
              "      <td>US/Mountain</td>\n",
              "      <td>K04V</td>\n",
              "      <td>38.0972</td>\n",
              "      <td>-106.1689</td>\n",
              "      <td>Saguache</td>\n",
              "      <td>Saguache</td>\n",
              "      <td>CO</td>\n",
              "      <td>81149.0</td>\n",
              "    </tr>\n",
              "    <tr>\n",
              "      <th>2</th>\n",
              "      <td>W-3</td>\n",
              "      <td>Snow</td>\n",
              "      <td>Light</td>\n",
              "      <td>2016-01-07 05:54:00</td>\n",
              "      <td>2016-01-07 15:34:00</td>\n",
              "      <td>0.03</td>\n",
              "      <td>US/Mountain</td>\n",
              "      <td>K04V</td>\n",
              "      <td>38.0972</td>\n",
              "      <td>-106.1689</td>\n",
              "      <td>Saguache</td>\n",
              "      <td>Saguache</td>\n",
              "      <td>CO</td>\n",
              "      <td>81149.0</td>\n",
              "    </tr>\n",
              "    <tr>\n",
              "      <th>3</th>\n",
              "      <td>W-4</td>\n",
              "      <td>Snow</td>\n",
              "      <td>Light</td>\n",
              "      <td>2016-01-08 05:34:00</td>\n",
              "      <td>2016-01-08 05:54:00</td>\n",
              "      <td>0.00</td>\n",
              "      <td>US/Mountain</td>\n",
              "      <td>K04V</td>\n",
              "      <td>38.0972</td>\n",
              "      <td>-106.1689</td>\n",
              "      <td>Saguache</td>\n",
              "      <td>Saguache</td>\n",
              "      <td>CO</td>\n",
              "      <td>81149.0</td>\n",
              "    </tr>\n",
              "    <tr>\n",
              "      <th>4</th>\n",
              "      <td>W-5</td>\n",
              "      <td>Snow</td>\n",
              "      <td>Light</td>\n",
              "      <td>2016-01-08 13:54:00</td>\n",
              "      <td>2016-01-08 15:54:00</td>\n",
              "      <td>0.00</td>\n",
              "      <td>US/Mountain</td>\n",
              "      <td>K04V</td>\n",
              "      <td>38.0972</td>\n",
              "      <td>-106.1689</td>\n",
              "      <td>Saguache</td>\n",
              "      <td>Saguache</td>\n",
              "      <td>CO</td>\n",
              "      <td>81149.0</td>\n",
              "    </tr>\n",
              "  </tbody>\n",
              "</table>\n",
              "</div>\n",
              "    <div class=\"colab-df-buttons\">\n",
              "\n",
              "  <div class=\"colab-df-container\">\n",
              "    <button class=\"colab-df-convert\" onclick=\"convertToInteractive('df-b35b9207-85a1-45f8-be94-b2ff75f84b36')\"\n",
              "            title=\"Convert this dataframe to an interactive table.\"\n",
              "            style=\"display:none;\">\n",
              "\n",
              "  <svg xmlns=\"http://www.w3.org/2000/svg\" height=\"24px\" viewBox=\"0 -960 960 960\">\n",
              "    <path d=\"M120-120v-720h720v720H120Zm60-500h600v-160H180v160Zm220 220h160v-160H400v160Zm0 220h160v-160H400v160ZM180-400h160v-160H180v160Zm440 0h160v-160H620v160ZM180-180h160v-160H180v160Zm440 0h160v-160H620v160Z\"/>\n",
              "  </svg>\n",
              "    </button>\n",
              "\n",
              "  <style>\n",
              "    .colab-df-container {\n",
              "      display:flex;\n",
              "      gap: 12px;\n",
              "    }\n",
              "\n",
              "    .colab-df-convert {\n",
              "      background-color: #E8F0FE;\n",
              "      border: none;\n",
              "      border-radius: 50%;\n",
              "      cursor: pointer;\n",
              "      display: none;\n",
              "      fill: #1967D2;\n",
              "      height: 32px;\n",
              "      padding: 0 0 0 0;\n",
              "      width: 32px;\n",
              "    }\n",
              "\n",
              "    .colab-df-convert:hover {\n",
              "      background-color: #E2EBFA;\n",
              "      box-shadow: 0px 1px 2px rgba(60, 64, 67, 0.3), 0px 1px 3px 1px rgba(60, 64, 67, 0.15);\n",
              "      fill: #174EA6;\n",
              "    }\n",
              "\n",
              "    .colab-df-buttons div {\n",
              "      margin-bottom: 4px;\n",
              "    }\n",
              "\n",
              "    [theme=dark] .colab-df-convert {\n",
              "      background-color: #3B4455;\n",
              "      fill: #D2E3FC;\n",
              "    }\n",
              "\n",
              "    [theme=dark] .colab-df-convert:hover {\n",
              "      background-color: #434B5C;\n",
              "      box-shadow: 0px 1px 3px 1px rgba(0, 0, 0, 0.15);\n",
              "      filter: drop-shadow(0px 1px 2px rgba(0, 0, 0, 0.3));\n",
              "      fill: #FFFFFF;\n",
              "    }\n",
              "  </style>\n",
              "\n",
              "    <script>\n",
              "      const buttonEl =\n",
              "        document.querySelector('#df-b35b9207-85a1-45f8-be94-b2ff75f84b36 button.colab-df-convert');\n",
              "      buttonEl.style.display =\n",
              "        google.colab.kernel.accessAllowed ? 'block' : 'none';\n",
              "\n",
              "      async function convertToInteractive(key) {\n",
              "        const element = document.querySelector('#df-b35b9207-85a1-45f8-be94-b2ff75f84b36');\n",
              "        const dataTable =\n",
              "          await google.colab.kernel.invokeFunction('convertToInteractive',\n",
              "                                                    [key], {});\n",
              "        if (!dataTable) return;\n",
              "\n",
              "        const docLinkHtml = 'Like what you see? Visit the ' +\n",
              "          '<a target=\"_blank\" href=https://colab.research.google.com/notebooks/data_table.ipynb>data table notebook</a>'\n",
              "          + ' to learn more about interactive tables.';\n",
              "        element.innerHTML = '';\n",
              "        dataTable['output_type'] = 'display_data';\n",
              "        await google.colab.output.renderOutput(dataTable, element);\n",
              "        const docLink = document.createElement('div');\n",
              "        docLink.innerHTML = docLinkHtml;\n",
              "        element.appendChild(docLink);\n",
              "      }\n",
              "    </script>\n",
              "  </div>\n",
              "\n",
              "\n",
              "    <div id=\"df-cab34558-e56b-4c5c-b27f-ac591b153156\">\n",
              "      <button class=\"colab-df-quickchart\" onclick=\"quickchart('df-cab34558-e56b-4c5c-b27f-ac591b153156')\"\n",
              "                title=\"Suggest charts\"\n",
              "                style=\"display:none;\">\n",
              "\n",
              "<svg xmlns=\"http://www.w3.org/2000/svg\" height=\"24px\"viewBox=\"0 0 24 24\"\n",
              "     width=\"24px\">\n",
              "    <g>\n",
              "        <path d=\"M19 3H5c-1.1 0-2 .9-2 2v14c0 1.1.9 2 2 2h14c1.1 0 2-.9 2-2V5c0-1.1-.9-2-2-2zM9 17H7v-7h2v7zm4 0h-2V7h2v10zm4 0h-2v-4h2v4z\"/>\n",
              "    </g>\n",
              "</svg>\n",
              "      </button>\n",
              "\n",
              "<style>\n",
              "  .colab-df-quickchart {\n",
              "      --bg-color: #E8F0FE;\n",
              "      --fill-color: #1967D2;\n",
              "      --hover-bg-color: #E2EBFA;\n",
              "      --hover-fill-color: #174EA6;\n",
              "      --disabled-fill-color: #AAA;\n",
              "      --disabled-bg-color: #DDD;\n",
              "  }\n",
              "\n",
              "  [theme=dark] .colab-df-quickchart {\n",
              "      --bg-color: #3B4455;\n",
              "      --fill-color: #D2E3FC;\n",
              "      --hover-bg-color: #434B5C;\n",
              "      --hover-fill-color: #FFFFFF;\n",
              "      --disabled-bg-color: #3B4455;\n",
              "      --disabled-fill-color: #666;\n",
              "  }\n",
              "\n",
              "  .colab-df-quickchart {\n",
              "    background-color: var(--bg-color);\n",
              "    border: none;\n",
              "    border-radius: 50%;\n",
              "    cursor: pointer;\n",
              "    display: none;\n",
              "    fill: var(--fill-color);\n",
              "    height: 32px;\n",
              "    padding: 0;\n",
              "    width: 32px;\n",
              "  }\n",
              "\n",
              "  .colab-df-quickchart:hover {\n",
              "    background-color: var(--hover-bg-color);\n",
              "    box-shadow: 0 1px 2px rgba(60, 64, 67, 0.3), 0 1px 3px 1px rgba(60, 64, 67, 0.15);\n",
              "    fill: var(--button-hover-fill-color);\n",
              "  }\n",
              "\n",
              "  .colab-df-quickchart-complete:disabled,\n",
              "  .colab-df-quickchart-complete:disabled:hover {\n",
              "    background-color: var(--disabled-bg-color);\n",
              "    fill: var(--disabled-fill-color);\n",
              "    box-shadow: none;\n",
              "  }\n",
              "\n",
              "  .colab-df-spinner {\n",
              "    border: 2px solid var(--fill-color);\n",
              "    border-color: transparent;\n",
              "    border-bottom-color: var(--fill-color);\n",
              "    animation:\n",
              "      spin 1s steps(1) infinite;\n",
              "  }\n",
              "\n",
              "  @keyframes spin {\n",
              "    0% {\n",
              "      border-color: transparent;\n",
              "      border-bottom-color: var(--fill-color);\n",
              "      border-left-color: var(--fill-color);\n",
              "    }\n",
              "    20% {\n",
              "      border-color: transparent;\n",
              "      border-left-color: var(--fill-color);\n",
              "      border-top-color: var(--fill-color);\n",
              "    }\n",
              "    30% {\n",
              "      border-color: transparent;\n",
              "      border-left-color: var(--fill-color);\n",
              "      border-top-color: var(--fill-color);\n",
              "      border-right-color: var(--fill-color);\n",
              "    }\n",
              "    40% {\n",
              "      border-color: transparent;\n",
              "      border-right-color: var(--fill-color);\n",
              "      border-top-color: var(--fill-color);\n",
              "    }\n",
              "    60% {\n",
              "      border-color: transparent;\n",
              "      border-right-color: var(--fill-color);\n",
              "    }\n",
              "    80% {\n",
              "      border-color: transparent;\n",
              "      border-right-color: var(--fill-color);\n",
              "      border-bottom-color: var(--fill-color);\n",
              "    }\n",
              "    90% {\n",
              "      border-color: transparent;\n",
              "      border-bottom-color: var(--fill-color);\n",
              "    }\n",
              "  }\n",
              "</style>\n",
              "\n",
              "      <script>\n",
              "        async function quickchart(key) {\n",
              "          const quickchartButtonEl =\n",
              "            document.querySelector('#' + key + ' button');\n",
              "          quickchartButtonEl.disabled = true;  // To prevent multiple clicks.\n",
              "          quickchartButtonEl.classList.add('colab-df-spinner');\n",
              "          try {\n",
              "            const charts = await google.colab.kernel.invokeFunction(\n",
              "                'suggestCharts', [key], {});\n",
              "          } catch (error) {\n",
              "            console.error('Error during call to suggestCharts:', error);\n",
              "          }\n",
              "          quickchartButtonEl.classList.remove('colab-df-spinner');\n",
              "          quickchartButtonEl.classList.add('colab-df-quickchart-complete');\n",
              "        }\n",
              "        (() => {\n",
              "          let quickchartButtonEl =\n",
              "            document.querySelector('#df-cab34558-e56b-4c5c-b27f-ac591b153156 button');\n",
              "          quickchartButtonEl.style.display =\n",
              "            google.colab.kernel.accessAllowed ? 'block' : 'none';\n",
              "        })();\n",
              "      </script>\n",
              "    </div>\n",
              "\n",
              "    </div>\n",
              "  </div>\n"
            ],
            "application/vnd.google.colaboratory.intrinsic+json": {
              "type": "dataframe",
              "variable_name": "df"
            }
          },
          "metadata": {},
          "execution_count": 5
        }
      ]
    },
    {
      "cell_type": "code",
      "source": [
        "df.isnull().sum()"
      ],
      "metadata": {
        "colab": {
          "base_uri": "https://localhost:8080/",
          "height": 523
        },
        "id": "a2VWVIiit83c",
        "outputId": "f85087ec-ae13-4412-b7ca-ab8510c9058d"
      },
      "execution_count": null,
      "outputs": [
        {
          "output_type": "execute_result",
          "data": {
            "text/plain": [
              "EventId                  0\n",
              "Type                     0\n",
              "Severity                 0\n",
              "StartTime(UTC)           0\n",
              "EndTime(UTC)             0\n",
              "Precipitation(in)        0\n",
              "TimeZone                 0\n",
              "AirportCode              0\n",
              "LocationLat              0\n",
              "LocationLng              0\n",
              "City                 16912\n",
              "County                   0\n",
              "State                    0\n",
              "ZipCode              69199\n",
              "dtype: int64"
            ],
            "text/html": [
              "<div>\n",
              "<style scoped>\n",
              "    .dataframe tbody tr th:only-of-type {\n",
              "        vertical-align: middle;\n",
              "    }\n",
              "\n",
              "    .dataframe tbody tr th {\n",
              "        vertical-align: top;\n",
              "    }\n",
              "\n",
              "    .dataframe thead th {\n",
              "        text-align: right;\n",
              "    }\n",
              "</style>\n",
              "<table border=\"1\" class=\"dataframe\">\n",
              "  <thead>\n",
              "    <tr style=\"text-align: right;\">\n",
              "      <th></th>\n",
              "      <th>0</th>\n",
              "    </tr>\n",
              "  </thead>\n",
              "  <tbody>\n",
              "    <tr>\n",
              "      <th>EventId</th>\n",
              "      <td>0</td>\n",
              "    </tr>\n",
              "    <tr>\n",
              "      <th>Type</th>\n",
              "      <td>0</td>\n",
              "    </tr>\n",
              "    <tr>\n",
              "      <th>Severity</th>\n",
              "      <td>0</td>\n",
              "    </tr>\n",
              "    <tr>\n",
              "      <th>StartTime(UTC)</th>\n",
              "      <td>0</td>\n",
              "    </tr>\n",
              "    <tr>\n",
              "      <th>EndTime(UTC)</th>\n",
              "      <td>0</td>\n",
              "    </tr>\n",
              "    <tr>\n",
              "      <th>Precipitation(in)</th>\n",
              "      <td>0</td>\n",
              "    </tr>\n",
              "    <tr>\n",
              "      <th>TimeZone</th>\n",
              "      <td>0</td>\n",
              "    </tr>\n",
              "    <tr>\n",
              "      <th>AirportCode</th>\n",
              "      <td>0</td>\n",
              "    </tr>\n",
              "    <tr>\n",
              "      <th>LocationLat</th>\n",
              "      <td>0</td>\n",
              "    </tr>\n",
              "    <tr>\n",
              "      <th>LocationLng</th>\n",
              "      <td>0</td>\n",
              "    </tr>\n",
              "    <tr>\n",
              "      <th>City</th>\n",
              "      <td>16912</td>\n",
              "    </tr>\n",
              "    <tr>\n",
              "      <th>County</th>\n",
              "      <td>0</td>\n",
              "    </tr>\n",
              "    <tr>\n",
              "      <th>State</th>\n",
              "      <td>0</td>\n",
              "    </tr>\n",
              "    <tr>\n",
              "      <th>ZipCode</th>\n",
              "      <td>69199</td>\n",
              "    </tr>\n",
              "  </tbody>\n",
              "</table>\n",
              "</div><br><label><b>dtype:</b> int64</label>"
            ]
          },
          "metadata": {},
          "execution_count": 6
        }
      ]
    },
    {
      "cell_type": "code",
      "source": [
        "df.isnull().sum()/8627181"
      ],
      "metadata": {
        "colab": {
          "base_uri": "https://localhost:8080/",
          "height": 523
        },
        "id": "yn02jp5juUng",
        "outputId": "1ef5d9a6-4d6d-4336-cbf9-261cae027fc2"
      },
      "execution_count": null,
      "outputs": [
        {
          "output_type": "execute_result",
          "data": {
            "text/plain": [
              "EventId              0.000000\n",
              "Type                 0.000000\n",
              "Severity             0.000000\n",
              "StartTime(UTC)       0.000000\n",
              "EndTime(UTC)         0.000000\n",
              "Precipitation(in)    0.000000\n",
              "TimeZone             0.000000\n",
              "AirportCode          0.000000\n",
              "LocationLat          0.000000\n",
              "LocationLng          0.000000\n",
              "City                 0.001960\n",
              "County               0.000000\n",
              "State                0.000000\n",
              "ZipCode              0.008021\n",
              "dtype: float64"
            ],
            "text/html": [
              "<div>\n",
              "<style scoped>\n",
              "    .dataframe tbody tr th:only-of-type {\n",
              "        vertical-align: middle;\n",
              "    }\n",
              "\n",
              "    .dataframe tbody tr th {\n",
              "        vertical-align: top;\n",
              "    }\n",
              "\n",
              "    .dataframe thead th {\n",
              "        text-align: right;\n",
              "    }\n",
              "</style>\n",
              "<table border=\"1\" class=\"dataframe\">\n",
              "  <thead>\n",
              "    <tr style=\"text-align: right;\">\n",
              "      <th></th>\n",
              "      <th>0</th>\n",
              "    </tr>\n",
              "  </thead>\n",
              "  <tbody>\n",
              "    <tr>\n",
              "      <th>EventId</th>\n",
              "      <td>0.000000</td>\n",
              "    </tr>\n",
              "    <tr>\n",
              "      <th>Type</th>\n",
              "      <td>0.000000</td>\n",
              "    </tr>\n",
              "    <tr>\n",
              "      <th>Severity</th>\n",
              "      <td>0.000000</td>\n",
              "    </tr>\n",
              "    <tr>\n",
              "      <th>StartTime(UTC)</th>\n",
              "      <td>0.000000</td>\n",
              "    </tr>\n",
              "    <tr>\n",
              "      <th>EndTime(UTC)</th>\n",
              "      <td>0.000000</td>\n",
              "    </tr>\n",
              "    <tr>\n",
              "      <th>Precipitation(in)</th>\n",
              "      <td>0.000000</td>\n",
              "    </tr>\n",
              "    <tr>\n",
              "      <th>TimeZone</th>\n",
              "      <td>0.000000</td>\n",
              "    </tr>\n",
              "    <tr>\n",
              "      <th>AirportCode</th>\n",
              "      <td>0.000000</td>\n",
              "    </tr>\n",
              "    <tr>\n",
              "      <th>LocationLat</th>\n",
              "      <td>0.000000</td>\n",
              "    </tr>\n",
              "    <tr>\n",
              "      <th>LocationLng</th>\n",
              "      <td>0.000000</td>\n",
              "    </tr>\n",
              "    <tr>\n",
              "      <th>City</th>\n",
              "      <td>0.001960</td>\n",
              "    </tr>\n",
              "    <tr>\n",
              "      <th>County</th>\n",
              "      <td>0.000000</td>\n",
              "    </tr>\n",
              "    <tr>\n",
              "      <th>State</th>\n",
              "      <td>0.000000</td>\n",
              "    </tr>\n",
              "    <tr>\n",
              "      <th>ZipCode</th>\n",
              "      <td>0.008021</td>\n",
              "    </tr>\n",
              "  </tbody>\n",
              "</table>\n",
              "</div><br><label><b>dtype:</b> float64</label>"
            ]
          },
          "metadata": {},
          "execution_count": 8
        }
      ]
    },
    {
      "cell_type": "code",
      "source": [
        "df.dropna(axis=0, inplace=True)\n",
        "df.isnull().sum()\n"
      ],
      "metadata": {
        "colab": {
          "base_uri": "https://localhost:8080/",
          "height": 523
        },
        "id": "laOB_2mdvNCF",
        "outputId": "4e578fe4-8ddc-4cdc-906c-a1163afc8cf7"
      },
      "execution_count": null,
      "outputs": [
        {
          "output_type": "execute_result",
          "data": {
            "text/plain": [
              "EventId              0\n",
              "Type                 0\n",
              "Severity             0\n",
              "StartTime(UTC)       0\n",
              "EndTime(UTC)         0\n",
              "Precipitation(in)    0\n",
              "TimeZone             0\n",
              "AirportCode          0\n",
              "LocationLat          0\n",
              "LocationLng          0\n",
              "City                 0\n",
              "County               0\n",
              "State                0\n",
              "ZipCode              0\n",
              "dtype: int64"
            ],
            "text/html": [
              "<div>\n",
              "<style scoped>\n",
              "    .dataframe tbody tr th:only-of-type {\n",
              "        vertical-align: middle;\n",
              "    }\n",
              "\n",
              "    .dataframe tbody tr th {\n",
              "        vertical-align: top;\n",
              "    }\n",
              "\n",
              "    .dataframe thead th {\n",
              "        text-align: right;\n",
              "    }\n",
              "</style>\n",
              "<table border=\"1\" class=\"dataframe\">\n",
              "  <thead>\n",
              "    <tr style=\"text-align: right;\">\n",
              "      <th></th>\n",
              "      <th>0</th>\n",
              "    </tr>\n",
              "  </thead>\n",
              "  <tbody>\n",
              "    <tr>\n",
              "      <th>EventId</th>\n",
              "      <td>0</td>\n",
              "    </tr>\n",
              "    <tr>\n",
              "      <th>Type</th>\n",
              "      <td>0</td>\n",
              "    </tr>\n",
              "    <tr>\n",
              "      <th>Severity</th>\n",
              "      <td>0</td>\n",
              "    </tr>\n",
              "    <tr>\n",
              "      <th>StartTime(UTC)</th>\n",
              "      <td>0</td>\n",
              "    </tr>\n",
              "    <tr>\n",
              "      <th>EndTime(UTC)</th>\n",
              "      <td>0</td>\n",
              "    </tr>\n",
              "    <tr>\n",
              "      <th>Precipitation(in)</th>\n",
              "      <td>0</td>\n",
              "    </tr>\n",
              "    <tr>\n",
              "      <th>TimeZone</th>\n",
              "      <td>0</td>\n",
              "    </tr>\n",
              "    <tr>\n",
              "      <th>AirportCode</th>\n",
              "      <td>0</td>\n",
              "    </tr>\n",
              "    <tr>\n",
              "      <th>LocationLat</th>\n",
              "      <td>0</td>\n",
              "    </tr>\n",
              "    <tr>\n",
              "      <th>LocationLng</th>\n",
              "      <td>0</td>\n",
              "    </tr>\n",
              "    <tr>\n",
              "      <th>City</th>\n",
              "      <td>0</td>\n",
              "    </tr>\n",
              "    <tr>\n",
              "      <th>County</th>\n",
              "      <td>0</td>\n",
              "    </tr>\n",
              "    <tr>\n",
              "      <th>State</th>\n",
              "      <td>0</td>\n",
              "    </tr>\n",
              "    <tr>\n",
              "      <th>ZipCode</th>\n",
              "      <td>0</td>\n",
              "    </tr>\n",
              "  </tbody>\n",
              "</table>\n",
              "</div><br><label><b>dtype:</b> int64</label>"
            ]
          },
          "metadata": {},
          "execution_count": 9
        }
      ]
    },
    {
      "cell_type": "markdown",
      "source": [
        "**Type Weather events**"
      ],
      "metadata": {
        "id": "Fw6jrnoLyEpr"
      }
    },
    {
      "cell_type": "code",
      "source": [
        "df['Type'].value_counts()"
      ],
      "metadata": {
        "colab": {
          "base_uri": "https://localhost:8080/",
          "height": 335
        },
        "id": "2wkIx0c_wfpt",
        "outputId": "fb93c6db-1fe0-4f5f-d90a-9745d1d695cd"
      },
      "execution_count": null,
      "outputs": [
        {
          "output_type": "execute_result",
          "data": {
            "text/plain": [
              "Type\n",
              "Rain             4974556\n",
              "Fog              1992230\n",
              "Snow             1143419\n",
              "Cold              230205\n",
              "Precipitation     156549\n",
              "Storm              58114\n",
              "Hail                2909\n",
              "Name: count, dtype: int64"
            ],
            "text/html": [
              "<div>\n",
              "<style scoped>\n",
              "    .dataframe tbody tr th:only-of-type {\n",
              "        vertical-align: middle;\n",
              "    }\n",
              "\n",
              "    .dataframe tbody tr th {\n",
              "        vertical-align: top;\n",
              "    }\n",
              "\n",
              "    .dataframe thead th {\n",
              "        text-align: right;\n",
              "    }\n",
              "</style>\n",
              "<table border=\"1\" class=\"dataframe\">\n",
              "  <thead>\n",
              "    <tr style=\"text-align: right;\">\n",
              "      <th></th>\n",
              "      <th>count</th>\n",
              "    </tr>\n",
              "    <tr>\n",
              "      <th>Type</th>\n",
              "      <th></th>\n",
              "    </tr>\n",
              "  </thead>\n",
              "  <tbody>\n",
              "    <tr>\n",
              "      <th>Rain</th>\n",
              "      <td>4974556</td>\n",
              "    </tr>\n",
              "    <tr>\n",
              "      <th>Fog</th>\n",
              "      <td>1992230</td>\n",
              "    </tr>\n",
              "    <tr>\n",
              "      <th>Snow</th>\n",
              "      <td>1143419</td>\n",
              "    </tr>\n",
              "    <tr>\n",
              "      <th>Cold</th>\n",
              "      <td>230205</td>\n",
              "    </tr>\n",
              "    <tr>\n",
              "      <th>Precipitation</th>\n",
              "      <td>156549</td>\n",
              "    </tr>\n",
              "    <tr>\n",
              "      <th>Storm</th>\n",
              "      <td>58114</td>\n",
              "    </tr>\n",
              "    <tr>\n",
              "      <th>Hail</th>\n",
              "      <td>2909</td>\n",
              "    </tr>\n",
              "  </tbody>\n",
              "</table>\n",
              "</div><br><label><b>dtype:</b> int64</label>"
            ]
          },
          "metadata": {},
          "execution_count": 20
        }
      ]
    },
    {
      "cell_type": "code",
      "source": [
        "df['Type'].value_counts(normalize=True)"
      ],
      "metadata": {
        "colab": {
          "base_uri": "https://localhost:8080/",
          "height": 335
        },
        "id": "Y_xOnbr9zg8Z",
        "outputId": "3e3e0911-38a0-4350-9a11-8b97f474c518"
      },
      "execution_count": null,
      "outputs": [
        {
          "output_type": "execute_result",
          "data": {
            "text/plain": [
              "Type\n",
              "Rain             0.581277\n",
              "Fog              0.232792\n",
              "Snow             0.133608\n",
              "Cold             0.026899\n",
              "Precipitation    0.018293\n",
              "Storm            0.006791\n",
              "Hail             0.000340\n",
              "Name: proportion, dtype: float64"
            ],
            "text/html": [
              "<div>\n",
              "<style scoped>\n",
              "    .dataframe tbody tr th:only-of-type {\n",
              "        vertical-align: middle;\n",
              "    }\n",
              "\n",
              "    .dataframe tbody tr th {\n",
              "        vertical-align: top;\n",
              "    }\n",
              "\n",
              "    .dataframe thead th {\n",
              "        text-align: right;\n",
              "    }\n",
              "</style>\n",
              "<table border=\"1\" class=\"dataframe\">\n",
              "  <thead>\n",
              "    <tr style=\"text-align: right;\">\n",
              "      <th></th>\n",
              "      <th>proportion</th>\n",
              "    </tr>\n",
              "    <tr>\n",
              "      <th>Type</th>\n",
              "      <th></th>\n",
              "    </tr>\n",
              "  </thead>\n",
              "  <tbody>\n",
              "    <tr>\n",
              "      <th>Rain</th>\n",
              "      <td>0.581277</td>\n",
              "    </tr>\n",
              "    <tr>\n",
              "      <th>Fog</th>\n",
              "      <td>0.232792</td>\n",
              "    </tr>\n",
              "    <tr>\n",
              "      <th>Snow</th>\n",
              "      <td>0.133608</td>\n",
              "    </tr>\n",
              "    <tr>\n",
              "      <th>Cold</th>\n",
              "      <td>0.026899</td>\n",
              "    </tr>\n",
              "    <tr>\n",
              "      <th>Precipitation</th>\n",
              "      <td>0.018293</td>\n",
              "    </tr>\n",
              "    <tr>\n",
              "      <th>Storm</th>\n",
              "      <td>0.006791</td>\n",
              "    </tr>\n",
              "    <tr>\n",
              "      <th>Hail</th>\n",
              "      <td>0.000340</td>\n",
              "    </tr>\n",
              "  </tbody>\n",
              "</table>\n",
              "</div><br><label><b>dtype:</b> float64</label>"
            ]
          },
          "metadata": {},
          "execution_count": 21
        }
      ]
    },
    {
      "cell_type": "code",
      "source": [
        "df['Type'].value_counts(normalize=True)"
      ],
      "metadata": {
        "colab": {
          "base_uri": "https://localhost:8080/",
          "height": 335
        },
        "id": "bAuvE78c36AZ",
        "outputId": "7df83210-44c4-45ad-9ba4-6c9cd2abe98f"
      },
      "execution_count": null,
      "outputs": [
        {
          "output_type": "execute_result",
          "data": {
            "text/plain": [
              "Type\n",
              "Rain             0.581277\n",
              "Fog              0.232792\n",
              "Snow             0.133608\n",
              "Cold             0.026899\n",
              "Precipitation    0.018293\n",
              "Storm            0.006791\n",
              "Hail             0.000340\n",
              "Name: proportion, dtype: float64"
            ],
            "text/html": [
              "<div>\n",
              "<style scoped>\n",
              "    .dataframe tbody tr th:only-of-type {\n",
              "        vertical-align: middle;\n",
              "    }\n",
              "\n",
              "    .dataframe tbody tr th {\n",
              "        vertical-align: top;\n",
              "    }\n",
              "\n",
              "    .dataframe thead th {\n",
              "        text-align: right;\n",
              "    }\n",
              "</style>\n",
              "<table border=\"1\" class=\"dataframe\">\n",
              "  <thead>\n",
              "    <tr style=\"text-align: right;\">\n",
              "      <th></th>\n",
              "      <th>proportion</th>\n",
              "    </tr>\n",
              "    <tr>\n",
              "      <th>Type</th>\n",
              "      <th></th>\n",
              "    </tr>\n",
              "  </thead>\n",
              "  <tbody>\n",
              "    <tr>\n",
              "      <th>Rain</th>\n",
              "      <td>0.581277</td>\n",
              "    </tr>\n",
              "    <tr>\n",
              "      <th>Fog</th>\n",
              "      <td>0.232792</td>\n",
              "    </tr>\n",
              "    <tr>\n",
              "      <th>Snow</th>\n",
              "      <td>0.133608</td>\n",
              "    </tr>\n",
              "    <tr>\n",
              "      <th>Cold</th>\n",
              "      <td>0.026899</td>\n",
              "    </tr>\n",
              "    <tr>\n",
              "      <th>Precipitation</th>\n",
              "      <td>0.018293</td>\n",
              "    </tr>\n",
              "    <tr>\n",
              "      <th>Storm</th>\n",
              "      <td>0.006791</td>\n",
              "    </tr>\n",
              "    <tr>\n",
              "      <th>Hail</th>\n",
              "      <td>0.000340</td>\n",
              "    </tr>\n",
              "  </tbody>\n",
              "</table>\n",
              "</div><br><label><b>dtype:</b> float64</label>"
            ]
          },
          "metadata": {},
          "execution_count": 31
        }
      ]
    },
    {
      "cell_type": "code",
      "source": [
        "df['Type'].value_counts(normalize=True).plot(kind='bar')"
      ],
      "metadata": {
        "colab": {
          "base_uri": "https://localhost:8080/",
          "height": 540
        },
        "id": "JYB7i586z_3l",
        "outputId": "454e9869-821e-4bec-b054-39e734a6da0f"
      },
      "execution_count": null,
      "outputs": [
        {
          "output_type": "execute_result",
          "data": {
            "text/plain": [
              "<Axes: xlabel='Type'>"
            ]
          },
          "metadata": {},
          "execution_count": 23
        },
        {
          "output_type": "display_data",
          "data": {
            "text/plain": [
              "<Figure size 640x480 with 1 Axes>"
            ],
            "image/png": "[encoded data removed]"
          },
          "metadata": {}
        }
      ]
    },
    {
      "cell_type": "markdown",
      "source": [
        "**severity**"
      ],
      "metadata": {
        "id": "g62LA2lc1cPP"
      }
    },
    {
      "cell_type": "code",
      "source": [
        "df['Severity'].value_counts()"
      ],
      "metadata": {
        "colab": {
          "base_uri": "https://localhost:8080/",
          "height": 304
        },
        "id": "P8EVTvbP07gH",
        "outputId": "fdfd8b7e-c331-415d-d85e-d7478defbf0a"
      },
      "execution_count": null,
      "outputs": [
        {
          "output_type": "execute_result",
          "data": {
            "text/plain": [
              "Severity\n",
              "Light       5114329\n",
              "Severe      1707251\n",
              "Moderate    1359118\n",
              "Heavy        217826\n",
              "UNK          156549\n",
              "Other          2909\n",
              "Name: count, dtype: int64"
            ],
            "text/html": [
              "<div>\n",
              "<style scoped>\n",
              "    .dataframe tbody tr th:only-of-type {\n",
              "        vertical-align: middle;\n",
              "    }\n",
              "\n",
              "    .dataframe tbody tr th {\n",
              "        vertical-align: top;\n",
              "    }\n",
              "\n",
              "    .dataframe thead th {\n",
              "        text-align: right;\n",
              "    }\n",
              "</style>\n",
              "<table border=\"1\" class=\"dataframe\">\n",
              "  <thead>\n",
              "    <tr style=\"text-align: right;\">\n",
              "      <th></th>\n",
              "      <th>count</th>\n",
              "    </tr>\n",
              "    <tr>\n",
              "      <th>Severity</th>\n",
              "      <th></th>\n",
              "    </tr>\n",
              "  </thead>\n",
              "  <tbody>\n",
              "    <tr>\n",
              "      <th>Light</th>\n",
              "      <td>5114329</td>\n",
              "    </tr>\n",
              "    <tr>\n",
              "      <th>Severe</th>\n",
              "      <td>1707251</td>\n",
              "    </tr>\n",
              "    <tr>\n",
              "      <th>Moderate</th>\n",
              "      <td>1359118</td>\n",
              "    </tr>\n",
              "    <tr>\n",
              "      <th>Heavy</th>\n",
              "      <td>217826</td>\n",
              "    </tr>\n",
              "    <tr>\n",
              "      <th>UNK</th>\n",
              "      <td>156549</td>\n",
              "    </tr>\n",
              "    <tr>\n",
              "      <th>Other</th>\n",
              "      <td>2909</td>\n",
              "    </tr>\n",
              "  </tbody>\n",
              "</table>\n",
              "</div><br><label><b>dtype:</b> int64</label>"
            ]
          },
          "metadata": {},
          "execution_count": 27
        }
      ]
    },
    {
      "cell_type": "code",
      "source": [
        "df['Severity'].value_counts(normalize=True)"
      ],
      "metadata": {
        "colab": {
          "base_uri": "https://localhost:8080/",
          "height": 304
        },
        "id": "vMfSjiHO1tt-",
        "outputId": "df8a47ac-b5bf-4cb4-e0b7-1d3b4d661743"
      },
      "execution_count": null,
      "outputs": [
        {
          "output_type": "execute_result",
          "data": {
            "text/plain": [
              "Severity\n",
              "Light       0.597609\n",
              "Severe      0.199492\n",
              "Moderate    0.158813\n",
              "Heavy       0.025453\n",
              "UNK         0.018293\n",
              "Other       0.000340\n",
              "Name: proportion, dtype: float64"
            ],
            "text/html": [
              "<div>\n",
              "<style scoped>\n",
              "    .dataframe tbody tr th:only-of-type {\n",
              "        vertical-align: middle;\n",
              "    }\n",
              "\n",
              "    .dataframe tbody tr th {\n",
              "        vertical-align: top;\n",
              "    }\n",
              "\n",
              "    .dataframe thead th {\n",
              "        text-align: right;\n",
              "    }\n",
              "</style>\n",
              "<table border=\"1\" class=\"dataframe\">\n",
              "  <thead>\n",
              "    <tr style=\"text-align: right;\">\n",
              "      <th></th>\n",
              "      <th>proportion</th>\n",
              "    </tr>\n",
              "    <tr>\n",
              "      <th>Severity</th>\n",
              "      <th></th>\n",
              "    </tr>\n",
              "  </thead>\n",
              "  <tbody>\n",
              "    <tr>\n",
              "      <th>Light</th>\n",
              "      <td>0.597609</td>\n",
              "    </tr>\n",
              "    <tr>\n",
              "      <th>Severe</th>\n",
              "      <td>0.199492</td>\n",
              "    </tr>\n",
              "    <tr>\n",
              "      <th>Moderate</th>\n",
              "      <td>0.158813</td>\n",
              "    </tr>\n",
              "    <tr>\n",
              "      <th>Heavy</th>\n",
              "      <td>0.025453</td>\n",
              "    </tr>\n",
              "    <tr>\n",
              "      <th>UNK</th>\n",
              "      <td>0.018293</td>\n",
              "    </tr>\n",
              "    <tr>\n",
              "      <th>Other</th>\n",
              "      <td>0.000340</td>\n",
              "    </tr>\n",
              "  </tbody>\n",
              "</table>\n",
              "</div><br><label><b>dtype:</b> float64</label>"
            ]
          },
          "metadata": {},
          "execution_count": 28
        }
      ]
    },
    {
      "cell_type": "code",
      "source": [
        "df['Severity'].value_counts(normalize=True).plot(kind='bar')"
      ],
      "metadata": {
        "colab": {
          "base_uri": "https://localhost:8080/",
          "height": 519
        },
        "id": "Hn9eHP5S2wFN",
        "outputId": "bf33e1dd-fb39-464c-a757-8d4dd5eb20e9"
      },
      "execution_count": null,
      "outputs": [
        {
          "output_type": "execute_result",
          "data": {
            "text/plain": [
              "<Axes: xlabel='Severity'>"
            ]
          },
          "metadata": {},
          "execution_count": 29
        },
        {
          "output_type": "display_data",
          "data": {
            "text/plain": [
              "<Figure size 640x480 with 1 Axes>"
            ],
            "image/png": "[encoded data removed]"
          },
          "metadata": {}
        }
      ]
    },
    {
      "cell_type": "code",
      "source": [
        "df[['Type','Severity']].value_counts()"
      ],
      "metadata": {
        "colab": {
          "base_uri": "https://localhost:8080/",
          "height": 492
        },
        "id": "M1sneLjx29Df",
        "outputId": "4fde468f-bbac-46e9-80c1-e88a898ac94a"
      },
      "execution_count": null,
      "outputs": [
        {
          "output_type": "execute_result",
          "data": {
            "text/plain": [
              "Type           Severity\n",
              "Rain           Light       4136499\n",
              "Fog            Severe      1418932\n",
              "Snow           Light        977830\n",
              "Rain           Moderate     658718\n",
              "Fog            Moderate     573298\n",
              "Cold           Severe       230205\n",
              "Rain           Heavy        179339\n",
              "Precipitation  UNK          156549\n",
              "Snow           Moderate     127102\n",
              "Storm          Severe        58114\n",
              "Snow           Heavy         38487\n",
              "Hail           Other          2909\n",
              "Name: count, dtype: int64"
            ],
            "text/html": [
              "<div>\n",
              "<style scoped>\n",
              "    .dataframe tbody tr th:only-of-type {\n",
              "        vertical-align: middle;\n",
              "    }\n",
              "\n",
              "    .dataframe tbody tr th {\n",
              "        vertical-align: top;\n",
              "    }\n",
              "\n",
              "    .dataframe thead th {\n",
              "        text-align: right;\n",
              "    }\n",
              "</style>\n",
              "<table border=\"1\" class=\"dataframe\">\n",
              "  <thead>\n",
              "    <tr style=\"text-align: right;\">\n",
              "      <th></th>\n",
              "      <th></th>\n",
              "      <th>count</th>\n",
              "    </tr>\n",
              "    <tr>\n",
              "      <th>Type</th>\n",
              "      <th>Severity</th>\n",
              "      <th></th>\n",
              "    </tr>\n",
              "  </thead>\n",
              "  <tbody>\n",
              "    <tr>\n",
              "      <th>Rain</th>\n",
              "      <th>Light</th>\n",
              "      <td>4136499</td>\n",
              "    </tr>\n",
              "    <tr>\n",
              "      <th>Fog</th>\n",
              "      <th>Severe</th>\n",
              "      <td>1418932</td>\n",
              "    </tr>\n",
              "    <tr>\n",
              "      <th>Snow</th>\n",
              "      <th>Light</th>\n",
              "      <td>977830</td>\n",
              "    </tr>\n",
              "    <tr>\n",
              "      <th>Rain</th>\n",
              "      <th>Moderate</th>\n",
              "      <td>658718</td>\n",
              "    </tr>\n",
              "    <tr>\n",
              "      <th>Fog</th>\n",
              "      <th>Moderate</th>\n",
              "      <td>573298</td>\n",
              "    </tr>\n",
              "    <tr>\n",
              "      <th>Cold</th>\n",
              "      <th>Severe</th>\n",
              "      <td>230205</td>\n",
              "    </tr>\n",
              "    <tr>\n",
              "      <th>Rain</th>\n",
              "      <th>Heavy</th>\n",
              "      <td>179339</td>\n",
              "    </tr>\n",
              "    <tr>\n",
              "      <th>Precipitation</th>\n",
              "      <th>UNK</th>\n",
              "      <td>156549</td>\n",
              "    </tr>\n",
              "    <tr>\n",
              "      <th>Snow</th>\n",
              "      <th>Moderate</th>\n",
              "      <td>127102</td>\n",
              "    </tr>\n",
              "    <tr>\n",
              "      <th>Storm</th>\n",
              "      <th>Severe</th>\n",
              "      <td>58114</td>\n",
              "    </tr>\n",
              "    <tr>\n",
              "      <th>Snow</th>\n",
              "      <th>Heavy</th>\n",
              "      <td>38487</td>\n",
              "    </tr>\n",
              "    <tr>\n",
              "      <th>Hail</th>\n",
              "      <th>Other</th>\n",
              "      <td>2909</td>\n",
              "    </tr>\n",
              "  </tbody>\n",
              "</table>\n",
              "</div><br><label><b>dtype:</b> int64</label>"
            ]
          },
          "metadata": {},
          "execution_count": 33
        }
      ]
    },
    {
      "cell_type": "code",
      "source": [
        "data_time_format=%Y,%m,%d,%H,%m,%S\n",
        "\n",
        "df['End']=pd.to_datetime(df[('Endtime(UTC)')],format=date_time_format)\n",
        "df['Start']=pd.to_datetime(df[('Starttime(UTC)')],format=date_time_format)\n",
        "\n",
        "df['Duration']=df['End']-df['Start']\n",
        "df['Duration']=df['Duration'].dt.total_seconds()\n",
        "df['Duration']=df['Duration']/(3600)"
      ],
      "metadata": {
        "colab": {
          "base_uri": "https://localhost:8080/"
        },
        "id": "JHqsqtLC4HLE",
        "outputId": "4b8d56cb-a003-401e-c9de-9dbe432f4115"
      },
      "execution_count": null,
      "outputs": [
        {
          "output_type": "stream",
          "name": "stderr",
          "text": [
            "UsageError: Line magic function `%Y,%m,%d,%H,%m,%S` not found.\n"
          ]
        }
      ]
    },
    {
      "cell_type": "code",
      "source": [
        "df['Duration'].max() , df['Duration'].min()"
      ],
      "metadata": {
        "id": "DY-jLRkr64V5"
      },
      "execution_count": null,
      "outputs": []
    },
    {
      "cell_type": "code",
      "source": [
        "df[df['Duration']=df['Duration'].max()]"
      ],
      "metadata": {
        "id": "tp7UsEE4Lfcd"
      },
      "execution_count": null,
      "outputs": []
    },
    {
      "cell_type": "code",
      "source": [
        "df['Duration'].quantile(0.01,0.05,0.25,0.05,0.75,0.95,0.99)"
      ],
      "metadata": {
        "id": "qzEeCVVfN4lh"
      },
      "execution_count": null,
      "outputs": []
    },
    {
      "cell_type": "code",
      "source": [
        "df=df[df['Duration']<=df['Duration'].quantile(0.99)]\n",
        "df.shape"
      ],
      "metadata": {
        "id": "94n_dsgzOWE0"
      },
      "execution_count": null,
      "outputs": []
    },
    {
      "cell_type": "code",
      "source": [
        "df.colums"
      ],
      "metadata": {
        "id": "r8dSDSPyPWMm"
      },
      "execution_count": null,
      "outputs": []
    },
    {
      "cell_type": "code",
      "source": [
        "df2=df.groupby(['Airportcode','City','State','LocationLat','LocationLng','Type','Severity']).agg({Duration :['sum','mean','std']}).rest_index()"
      ],
      "metadata": {
        "id": "iXJfmKvBPnVa"
      },
      "execution_count": null,
      "outputs": []
    },
    {
      "cell_type": "code",
      "source": [
        "df2"
      ],
      "metadata": {
        "id": "95w4n99ITblz"
      },
      "execution_count": null,
      "outputs": []
    },
    {
      "cell_type": "code",
      "source": [
        "df2.colums"
      ],
      "metadata": {
        "id": "wyu_eZAtTf0X"
      },
      "execution_count": null,
      "outputs": []
    },
    {
      "cell_type": "code",
      "source": [
        "south\"AL\", \"GA', 'FL', 'SC', 'WC\", \"TN', 'HS\", \"LA\", \"AR\", \"ок\", \"K\"]\n",
        "\n",
        "atlantic [KY', 'VA', 'W', 'MD', 'DE', 'PA',\n",
        "\n",
        "new england [NY', 'CT', 'RI', 'MA', 'VT\", \"W\", \"ME\"]\n",
        "\n",
        "midwest [OH, IN', 'MI, IL, WI, IA, HO, M, 'NE', 'KS', '50', '10']\n",
        "\n",
        "west['HT', 'w', 'ID', 'NV', 'UT', 'CO', 'AZ', '10\"]\n",
        "\n",
        "pacific [AK\", \"MA\", OR', 'CA', 'HI']\n",
        "\n",
        "df2.loc/df2| State'].isin (south), 'Region'] 'South\"\n",
        "\n",
        "df2.loc(df2[State'].isin(atlantic), 'Region'] 'Atlantic'\n",
        "\n",
        "df2.loc[df2['State'].isin(new_england), 'Region'] = 'New England\n",
        "\n",
        "df2.loc[df2[State\"].isin(midwest), 'Region'] \"Midwest\"\n",
        "\n",
        "df2.loc[df2['State\"].isin(atlantic, 'Region'] 'Atlantic\n",
        "\n",
        "df2.loc[df2/'State'].isin(atlantic), 'Region'] 'Atlantic'\n",
        "\n"
      ],
      "metadata": {
        "id": "ZyJLjcq3UJWo"
      },
      "execution_count": null,
      "outputs": []
    },
    {
      "cell_type": "code",
      "source": [
        "level_0_columns\n",
        "\n",
        "df2.columns.get_level_values(0)\n",
        "\n",
        "level 1_columns df2.columns.get_level_values (1)\n",
        "\n",
        "level_0_columns,level_1_columns"
      ],
      "metadata": {
        "id": "dIT54CyOYjIx"
      },
      "execution_count": null,
      "outputs": []
    },
    {
      "cell_type": "code",
      "source": [
        "column[x' 'sy if len(y)>0 else x for x,y in zip(level_0_columns, level_i_columns)]\n",
        "\n",
        "columns"
      ],
      "metadata": {
        "id": "ijsAifMRYoHv"
      },
      "execution_count": null,
      "outputs": []
    },
    {
      "cell_type": "code",
      "source": [
        "df2.columns = columns"
      ],
      "metadata": {
        "id": "VImKSZlPYyN7"
      },
      "execution_count": null,
      "outputs": []
    },
    {
      "cell_type": "code",
      "source": [
        "df2.groupby('Region').agg({'Duration_sum': sum))"
      ],
      "metadata": {
        "id": "kOrhLrC1fzop"
      },
      "execution_count": null,
      "outputs": []
    },
    {
      "cell_type": "code",
      "source": [
        "df2.groupby('Region').agg({\"Duration_sum': 'sum\")).plot(kind= \"bar\")"
      ],
      "metadata": {
        "id": "8IqOC5Tjfzb_"
      },
      "execution_count": null,
      "outputs": []
    },
    {
      "cell_type": "code",
      "source": [
        "df2.groupby([\"Type', 'Region']).agg((\"Duration_sum': 'sum')).reset_index()"
      ],
      "metadata": {
        "id": "1VKAkQUefzN0"
      },
      "execution_count": null,
      "outputs": []
    },
    {
      "cell_type": "code",
      "source": [
        "0e\", \"Region']).agg((\"Duration sum't 'sum']).reset_index().sort_values(by- Duration, sun\", asconding-False)\n"
      ],
      "metadata": {
        "id": "GgE84uBdfy_f"
      },
      "execution_count": null,
      "outputs": []
    },
    {
      "cell_type": "code",
      "source": [
        "fig sumpa,histogram(df2, xsType\", yo \"Duration sum', histfone 'avg', color Severity' title \"Fig 1. Nation Wide weather Events Duration')\n",
        "\n",
        "fig sum upåste xaxes(categoryorder'nean descending')\n",
        "\n",
        "fig sum.update yuses[title text=\"Rean of Duration & per Year')\n",
        "\n",
        "fig sun.spdate layout (height-750, width-1000)\n",
        "\n",
        "Fig sum.show()"
      ],
      "metadata": {
        "id": "_cVIJodkgInW"
      },
      "execution_count": null,
      "outputs": []
    },
    {
      "cell_type": "code",
      "source": [
        "weather = df2.copy()"
      ],
      "metadata": {
        "id": "J9SPqfFcgIdA"
      },
      "execution_count": null,
      "outputs": []
    },
    {
      "cell_type": "code",
      "source": [
        "fig city px.scatter_geo(weather, lak LocationLat', lon 'Locationing', hover_name weather['City'], + weather['State'], scope=\"usa\",\n",
        "\n",
        "title='Fig 4. Cities Involved in this Dataset')\n",
        "\n",
        "fig city.show()"
      ],
      "metadata": {
        "id": "2oxzs8ROgbu7"
      },
      "execution_count": null,
      "outputs": []
    },
    {
      "cell_type": "code",
      "source": [
        "pre flatf.grosby (AirportCode\", \"City\", \"State\", \"Locationtat\", \"Locationing\", \"Type\"}).agg((\"Duration\":[\"sum'])).reset indre()\n",
        "\n",
        "pre flat.colums pd.Poltiindes.from taples(((\"AirportCode\", \"\"), (\"City\", (\"Duration\",\"\n",
        "\n",
        "(\"State\",\"\",\"Locationtat\",\" (\"Locationing\",\"\")(\"Typ\n",
        "\n",
        "pre flat.columspre flat.columns.pet level values(0)\n",
        "\n",
        "Yearly Percentage\n",
        "\n",
        "renaturation) pre flat[\"Duration')/ (24%).65) pre flat pre flat, sort, values(By Duration\n",
        "\n",
        "pre flat plvet table(index AirportCafe', columns\"Type\", valursa \"Duration').reset index().filima (8)\n",
        "of flat.columes platiledes, from tuples(((\"\", \"Airportlade, ' Precipitation\"),\"\",\"S\n",
        "\n",
        "fflat.columsal het.columns.pet level values (3)\n",
        "\n",
        "uniquetry #12 AirportCode\", \"City\",\n",
        "\n",
        "\"State\", \"gom\", \"Locationtat\", \"Locating\").sort values(By AirportCode').drop duplicates() weather pd.serge(flet, uniquetry, has \"Inner\", on AirportCade\")"
      ],
      "metadata": {
        "id": "imbFsleVgbl6"
      },
      "execution_count": null,
      "outputs": []
    },
    {
      "cell_type": "code",
      "source": [
        "figwowpscatter grocurather, lat-Locationtat, lons \"Locatiosing\n",
        "\n",
        "color-Sov\", hover nameswather City'\n",
        "\n",
        "weather State'l,\n",
        "\n",
        "color continuous stelesome\",\n",
        "\n",
        "title City Mide Snow Days Percentage lach Year from 2016 to 20213\n",
        "\n",
        "fig,www.show()"
      ],
      "metadata": {
        "id": "mxmGW1w3gbib"
      },
      "execution_count": null,
      "outputs": []
    },
    {
      "cell_type": "code",
      "source": [
        "figwowpscatter grocurather, lat-Locationtat, lons \"Locatiosing\n",
        "\n",
        "color-Sov\", hover nameswather City'\n",
        "\n",
        "weather State'l,\n",
        "\n",
        "color continuous stelesome\",\n",
        "\n",
        "title City Mide Snow Days Percentage lach Year from 2016 to 20212\n",
        "\n",
        "fig,www.show()"
      ],
      "metadata": {
        "id": "-Ai9kmI_gbcO"
      },
      "execution_count": null,
      "outputs": []
    },
    {
      "cell_type": "code",
      "source": [],
      "metadata": {
        "id": "lEhzjTLDgbYn"
      },
      "execution_count": null,
      "outputs": []
    }
  ]
}